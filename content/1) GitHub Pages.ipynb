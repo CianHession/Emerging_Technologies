{
 "cells": [
  {
   "cell_type": "markdown",
   "id": "41a6e16f",
   "metadata": {},
   "source": [
    "# GitHub Pages"
   ]
  },
  {
   "cell_type": "markdown",
   "id": "ebba88bb",
   "metadata": {},
   "source": [
    "<p>GitHub Pages is a static site hosting service that takes HTML, CSS, and JavaScript files straight from a repository on GitHub, optionally runs the files through a build process, and publishes a website.</p> [1]\n",
    "\n",
    "You can visit my deployed site, which is running an instance of JupyterLite lab <a href=\"https://cianhession.github.io/Emerging_Technologies/\">here</a>\n",
    "\n",
    "In order to create your own user site, you will need to create a new repository with your GitHub username and call this repo USERNAME.github.io, this will let GitHub identify this repo as a user site, if you direct from root to for example /samplerepo (given this repo is created as a regular repo on github) it will contain the contents of this repo on the site.\n",
    "\n",
    "You can statically build your own site or a custom build\n",
    "***"
   ]
  },
  {
   "cell_type": "markdown",
   "id": "78500b16",
   "metadata": {},
   "source": [
    "## HTTP"
   ]
  },
  {
   "cell_type": "markdown",
   "id": "ca391918",
   "metadata": {},
   "source": [
    "HTTP or Hypertext Transfer Protocol is the most common way to implement communication between a server and a client. \n",
    "Think of your browser as the client and when you search for a website and get onto the site, this being a response from the server which we cannot see, but know it is working in the background. \n",
    "\n",
    "Given HTTP is a classic server-client model, this means the client opens connection with a request and must wait until a response is sent back, HTTP is also refered to as being stateless, meaning the server does not save data from any requests.\n",
    "The client also cannot make any new requests until the request(s) before are all responded too.\n",
    "\n",
    "The requests are sent by HTTP Headers, they contain fields such as METHOD, RESPONSE and more.\n",
    "I recommend clicking\n",
    "<a href=\"https://www.w3.org/Protocols/rfc2616/rfc2616-sec6.html\">here</a>  [2] to read about the response codes, as certain codes such as 404 is an error response, in particular a \"not found\" error, indicating this page is not valid on a site."
   ]
  },
  {
   "cell_type": "markdown",
   "id": "e65c56a1",
   "metadata": {},
   "source": [
    "***\n",
    "### Sample Request"
   ]
  },
  {
   "cell_type": "markdown",
   "id": "b4eb34f2",
   "metadata": {},
   "source": [
    "```\n",
    "POST /contact_form.php HTTP/1.1\n",
    "Host: developer.mozilla.org\n",
    "Content-Length: 64\n",
    "Content-Type: application/x-www-form-urlencoded\n",
    "\n",
    "name=Joe%20User&request=Send%20me%20one%20of%20your%20catalogue\n",
    "```\n",
    "As we can see from above, this is a POST request, this is just a regular search.\n",
    "The Host Header is the website we are requesting from.\n",
    "\n",
    "The name = is the data we are searching for converted into header format."
   ]
  },
  {
   "cell_type": "markdown",
   "id": "9d45140c",
   "metadata": {},
   "source": [
    "***\n",
    "### Sample Response"
   ]
  },
  {
   "cell_type": "markdown",
   "id": "ea41f04e",
   "metadata": {},
   "source": [
    "\n",
    "``\n",
    "HTTP/1.1 200 OK\n",
    "Content-Type: text/html; charset=utf-8\n",
    "Content-Length: 55743\n",
    "Connection: keep-alive\n",
    "Cache-Control: s-maxage=300, public, max-age=0\n",
    "Content-Language: en-US\n",
    "Date: Thu, 06 Dec 2018 17:37:18 GMT\n",
    "ETag: \"2e77ad1dc6ab0b53a2996dfd4653c1c3\"\n",
    "Server: meinheld/0.6.1\n",
    "Strict-Transport-Security: max-age=63072000\n",
    "X-Content-Type-Options: nosniff\n",
    "X-Frame-Options: DENY\n",
    "X-XSS-Protection: 1; mode=block\n",
    "Vary: Accept-Encoding,Cookie\n",
    "Age: 7\n",
    "``\n",
    "\n",
    "***"
   ]
  },
  {
   "cell_type": "markdown",
   "id": "159ce005",
   "metadata": {},
   "source": [
    "## Static vs Dynamic\n",
    "***"
   ]
  },
  {
   "cell_type": "markdown",
   "id": "1d3098e2",
   "metadata": {},
   "source": [
    "## References"
   ]
  },
  {
   "cell_type": "markdown",
   "id": "83c4e301",
   "metadata": {},
   "source": [
    "[1] https://docs.github.com/en/pages/getting-started-with-github-pages/about-github-pages <br>\n",
    "[2] https://www.w3.org/Protocols/rfc2616/rfc2616-sec6.html"
   ]
  },
  {
   "cell_type": "code",
   "execution_count": null,
   "id": "20c7b9af",
   "metadata": {},
   "outputs": [],
   "source": []
  }
 ],
 "metadata": {
  "kernelspec": {
   "display_name": "Python 3 (ipykernel)",
   "language": "python",
   "name": "python3"
  },
  "language_info": {
   "codemirror_mode": {
    "name": "ipython",
    "version": 3
   },
   "file_extension": ".py",
   "mimetype": "text/x-python",
   "name": "python",
   "nbconvert_exporter": "python",
   "pygments_lexer": "ipython3",
   "version": "3.9.13"
  }
 },
 "nbformat": 4,
 "nbformat_minor": 5
}
